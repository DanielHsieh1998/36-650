{
 "cells": [
  {
   "cell_type": "code",
   "execution_count": 78,
   "metadata": {},
   "outputs": [],
   "source": [
    "def top_10():\n",
    "    cursor3 = conn.cursor()\n",
    "    sql_3 = '''SELECT *\n",
    "        FROM EMPLOYEES\n",
    "        LIMIT 10;\n",
    "    '''\n",
    "    cursor3.execute(sql_3)\n",
    "    for row in cursor3:\n",
    "        print (row)"
   ]
  },
  {
   "cell_type": "code",
   "execution_count": 79,
   "metadata": {},
   "outputs": [
    {
     "name": "stdout",
     "output_type": "stream",
     "text": [
      "(1, 'hhh', 'hh')\n",
      "(2, 'hhh', 'hh')\n",
      "(3, 'hhh', 'hh')\n",
      "(4, 'hhh', 'hh')\n",
      "(5, 'hhh', 'hh')\n",
      "(6, 'hhh', 'hh')\n",
      "(7, 'hhh', 'hh')\n",
      "(8, 'hhh', 'hh')\n",
      "(9, 'hhh', 'hh')\n",
      "(10, 'hhh', 'hh')\n"
     ]
    }
   ],
   "source": [
    "top_10()"
   ]
  }
 ],
 "metadata": {
  "interpreter": {
   "hash": "fb698bdeab99cfbf9e31cab566d99a06e057f2dec3dcc8097ebabb329e860e16"
  },
  "kernelspec": {
   "display_name": "Python 3.8.8 64-bit ('base': conda)",
   "name": "python3"
  },
  "language_info": {
   "codemirror_mode": {
    "name": "ipython",
    "version": 3
   },
   "file_extension": ".py",
   "mimetype": "text/x-python",
   "name": "python",
   "nbconvert_exporter": "python",
   "pygments_lexer": "ipython3",
   "version": "3.8.8"
  },
  "orig_nbformat": 4
 },
 "nbformat": 4,
 "nbformat_minor": 2
}
