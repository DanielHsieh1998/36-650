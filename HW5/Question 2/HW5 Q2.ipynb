{
 "cells": [
  {
   "cell_type": "code",
   "execution_count": 1,
   "id": "c780d914",
   "metadata": {},
   "outputs": [],
   "source": [
    "import numpy as np\n",
    "import pandas as pd"
   ]
  },
  {
   "cell_type": "code",
   "execution_count": 10,
   "id": "718591ec",
   "metadata": {},
   "outputs": [],
   "source": [
    "def delpunct(s):\n",
    "    punctuations = '''!()-[]{};:'\"\\,<>./?@#$%^&*_~'''\n",
    "    ret = s\n",
    "    for char in ret:\n",
    "        if char in punctuations:\n",
    "            ret = ret.replace(char,\"\")\n",
    "    index = 0\n",
    "    while index < len(ret):\n",
    "        if ret[index] == \" \":\n",
    "            i = index + 1\n",
    "            while i < len(ret) and ret[i] == \" \":\n",
    "                ret = ret[:i] + ret[i + 1:]\n",
    "        index += 1\n",
    "    return ret"
   ]
  },
  {
   "cell_type": "code",
   "execution_count": 13,
   "id": "51d500a5",
   "metadata": {},
   "outputs": [
    {
     "data": {
      "text/plain": [
       "'Hello in 36650 other MSP courses'"
      ]
     },
     "execution_count": 13,
     "metadata": {},
     "output_type": "execute_result"
    }
   ],
   "source": [
    "s = \"Hello in 36-650, & other MSP courses.\"\n",
    "delpunct(s)"
   ]
  },
  {
   "cell_type": "code",
   "execution_count": null,
   "id": "6768bc20",
   "metadata": {},
   "outputs": [],
   "source": []
  }
 ],
 "metadata": {
  "kernelspec": {
   "display_name": "Python 3",
   "language": "python",
   "name": "python3"
  },
  "language_info": {
   "codemirror_mode": {
    "name": "ipython",
    "version": 3
   },
   "file_extension": ".py",
   "mimetype": "text/x-python",
   "name": "python",
   "nbconvert_exporter": "python",
   "pygments_lexer": "ipython3",
   "version": "3.8.8"
  }
 },
 "nbformat": 4,
 "nbformat_minor": 5
}
