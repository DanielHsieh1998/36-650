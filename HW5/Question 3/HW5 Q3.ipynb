{
 "cells": [
  {
   "cell_type": "code",
   "execution_count": 1,
   "id": "2722b6c5",
   "metadata": {},
   "outputs": [],
   "source": [
    "import numpy as np\n",
    "import pandas as pd"
   ]
  },
  {
   "cell_type": "code",
   "execution_count": 14,
   "id": "1c5aac70",
   "metadata": {},
   "outputs": [],
   "source": [
    "def one_away(a,b):\n",
    "    if len(a) == len(b):\n",
    "        boo = 0\n",
    "        for i in range(len(a)):\n",
    "            if a[i] != b[i]: boo += 1\n",
    "            if boo > 1: return \"false\"\n",
    "        if boo <= 1: return \"true\"\n",
    "        else: return \"false\"\n",
    "    elif len(a) == len(b) - 1:\n",
    "        return one_away(b,a)\n",
    "    elif len(a) - 1 == len(b):\n",
    "        for i in range(len(a)):\n",
    "            if a[:i] + a[i+1:] == b: return \"true\"\n",
    "        return \"false\"\n",
    "            "
   ]
  },
  {
   "cell_type": "code",
   "execution_count": 16,
   "id": "6d17e30b",
   "metadata": {},
   "outputs": [
    {
     "name": "stdout",
     "output_type": "stream",
     "text": [
      "true\n",
      "true\n",
      "true\n",
      "false\n",
      "false\n"
     ]
    }
   ],
   "source": [
    "print(one_away(\"pale\",\"ple\"))\n",
    "print(one_away(\"pales\",\"pale\"))\n",
    "print(one_away(\"pale\",\"bale\"))\n",
    "print(one_away(\"pale\",\"bake\"))\n",
    "print(one_away(\"a\",\"a\"))"
   ]
  }
 ],
 "metadata": {
  "kernelspec": {
   "display_name": "Python 3",
   "language": "python",
   "name": "python3"
  },
  "language_info": {
   "codemirror_mode": {
    "name": "ipython",
    "version": 3
   },
   "file_extension": ".py",
   "mimetype": "text/x-python",
   "name": "python",
   "nbconvert_exporter": "python",
   "pygments_lexer": "ipython3",
   "version": "3.8.8"
  }
 },
 "nbformat": 4,
 "nbformat_minor": 5
}
