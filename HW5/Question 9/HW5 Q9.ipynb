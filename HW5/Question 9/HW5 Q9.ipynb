{
 "cells": [
  {
   "cell_type": "code",
   "execution_count": 1,
   "id": "50994f4f",
   "metadata": {},
   "outputs": [],
   "source": [
    "import numpy as np\n",
    "import pandas as pd"
   ]
  },
  {
   "cell_type": "code",
   "execution_count": 7,
   "id": "e2002dee",
   "metadata": {},
   "outputs": [],
   "source": [
    "def palindrome(s):\n",
    "    if len(s) == 1:\n",
    "        return \"true\"\n",
    "    elif len(s) == 2 and s[0] == s[1]:\n",
    "        return \"true\"\n",
    "    elif s[0] == s[len(s)-1]:\n",
    "        return palindrome(s[1:len(s)-1])\n",
    "    else:\n",
    "        return \"false\""
   ]
  },
  {
   "cell_type": "code",
   "execution_count": 10,
   "id": "ad7f9889",
   "metadata": {},
   "outputs": [
    {
     "name": "stdout",
     "output_type": "stream",
     "text": [
      "true\n",
      "true\n",
      "false\n"
     ]
    }
   ],
   "source": [
    "print(palindrome(\"kayak\"))\n",
    "print(palindrome(\"twwt\"))\n",
    "print(palindrome(\"hello\"))"
   ]
  }
 ],
 "metadata": {
  "kernelspec": {
   "display_name": "Python 3",
   "language": "python",
   "name": "python3"
  },
  "language_info": {
   "codemirror_mode": {
    "name": "ipython",
    "version": 3
   },
   "file_extension": ".py",
   "mimetype": "text/x-python",
   "name": "python",
   "nbconvert_exporter": "python",
   "pygments_lexer": "ipython3",
   "version": "3.8.8"
  }
 },
 "nbformat": 4,
 "nbformat_minor": 5
}
