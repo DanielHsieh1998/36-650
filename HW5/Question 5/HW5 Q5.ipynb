{
 "cells": [
  {
   "cell_type": "code",
   "execution_count": 1,
   "id": "e0a753d1",
   "metadata": {},
   "outputs": [],
   "source": [
    "import numpy as np\n",
    "import pandas as pd"
   ]
  },
  {
   "cell_type": "code",
   "execution_count": 1,
   "id": "4f4ec8d9",
   "metadata": {},
   "outputs": [],
   "source": [
    "def pyramid(row):\n",
    "    if row < 0 or not isinstance(row, int):\n",
    "         print (\"Invalid Input\")\n",
    "    else:\n",
    "        for i in range(row):\n",
    "            for j in range(row-i):\n",
    "                print(\" \",end = \"\")\n",
    "            for k in range(i+1):\n",
    "                print(\"*\",end=\" \")\n",
    "            print(\"\")\n",
    "            print(\"\")"
   ]
  },
  {
   "cell_type": "code",
   "execution_count": 2,
   "id": "bb81224d",
   "metadata": {},
   "outputs": [
    {
     "name": "stdout",
     "output_type": "stream",
     "text": [
      "      * \n",
      "\n",
      "     * * \n",
      "\n",
      "    * * * \n",
      "\n",
      "   * * * * \n",
      "\n",
      "  * * * * * \n",
      "\n",
      " * * * * * * \n",
      "\n"
     ]
    }
   ],
   "source": [
    "pyramid(6)"
   ]
  },
  {
   "cell_type": "code",
   "execution_count": 3,
   "id": "77f14ac9",
   "metadata": {},
   "outputs": [
    {
     "name": "stdout",
     "output_type": "stream",
     "text": [
      "     * \n",
      "\n",
      "    * * \n",
      "\n",
      "   * * * \n",
      "\n",
      "  * * * * \n",
      "\n",
      " * * * * * \n",
      "\n"
     ]
    }
   ],
   "source": [
    "pyramid(5)"
   ]
  },
  {
   "cell_type": "code",
   "execution_count": null,
   "id": "d10825ba",
   "metadata": {},
   "outputs": [],
   "source": []
  }
 ],
 "metadata": {
  "kernelspec": {
   "display_name": "Python 3",
   "language": "python",
   "name": "python3"
  },
  "language_info": {
   "codemirror_mode": {
    "name": "ipython",
    "version": 3
   },
   "file_extension": ".py",
   "mimetype": "text/x-python",
   "name": "python",
   "nbconvert_exporter": "python",
   "pygments_lexer": "ipython3",
   "version": "3.8.8"
  }
 },
 "nbformat": 4,
 "nbformat_minor": 5
}
